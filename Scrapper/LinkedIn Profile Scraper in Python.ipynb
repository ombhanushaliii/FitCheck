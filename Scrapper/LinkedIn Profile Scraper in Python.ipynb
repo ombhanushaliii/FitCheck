{
 "cells": [
  {
   "cell_type": "code",
   "execution_count": 2,
   "metadata": {},
   "outputs": [
    {
     "data": {
      "text/plain": [
       "True"
      ]
     },
     "execution_count": 2,
     "metadata": {},
     "output_type": "execute_result"
    }
   ],
   "source": [
    "import os\n",
    "from bs4 import BeautifulSoup\n",
    "from selenium import webdriver\n",
    "from selenium.webdriver.common.by import By\n",
    "\n",
    "from time import sleep\n",
    "\n",
    "from dotenv import load_dotenv\n",
    "load_dotenv()"
   ]
  },
  {
   "cell_type": "code",
   "execution_count": 3,
   "metadata": {},
   "outputs": [
    {
     "data": {
      "text/plain": [
       "('harish.pawali1967@gmail.com', 'bootwinxp')"
      ]
     },
     "execution_count": 3,
     "metadata": {},
     "output_type": "execute_result"
    }
   ],
   "source": [
    "# if you don't have a .env file, you can create one and add the following lines:\n",
    "os.environ['EMAIL'], os.environ['PASSWORD']"
   ]
  },
  {
   "cell_type": "code",
   "execution_count": 4,
   "metadata": {},
   "outputs": [],
   "source": [
    "driver = webdriver.Edge()"
   ]
  },
  {
   "cell_type": "code",
   "execution_count": 5,
   "metadata": {},
   "outputs": [],
   "source": [
    "driver.get('https://www.linkedin.com/login')"
   ]
  },
  {
   "cell_type": "code",
   "execution_count": 6,
   "metadata": {},
   "outputs": [
    {
     "data": {
      "text/plain": [
       "'LinkedIn Login, Sign in | LinkedIn'"
      ]
     },
     "execution_count": 6,
     "metadata": {},
     "output_type": "execute_result"
    }
   ],
   "source": [
    "driver.title"
   ]
  },
  {
   "cell_type": "code",
   "execution_count": 7,
   "metadata": {},
   "outputs": [],
   "source": [
    "email = driver.find_element(By.ID, 'username')\n",
    "email.send_keys(os.environ['EMAIL'])\n",
    "\n",
    "password = driver.find_element(By.ID, 'password')\n",
    "password.send_keys(os.environ['PASSWORD'])\n",
    "\n",
    "password.submit()"
   ]
  },
  {
   "cell_type": "code",
   "execution_count": 8,
   "metadata": {},
   "outputs": [],
   "source": [
    "## MAKE SURE TO USE ONLY THIS URL TO AVOID BEING STUCK IN ERRORS\n",
    "\n",
    "url = \"https://www.linkedin.com/in/omthanage\"\n",
    "driver.get(url)"
   ]
  },
  {
   "cell_type": "code",
   "execution_count": 11,
   "metadata": {},
   "outputs": [],
   "source": [
    "profile_data = {}"
   ]
  },
  {
   "cell_type": "code",
   "execution_count": 11,
   "metadata": {},
   "outputs": [
    {
     "data": {
      "text/plain": [
       "'Om Thanage | LinkedIn'"
      ]
     },
     "execution_count": 11,
     "metadata": {},
     "output_type": "execute_result"
    }
   ],
   "source": [
    "driver.title"
   ]
  },
  {
   "cell_type": "code",
   "execution_count": 15,
   "metadata": {},
   "outputs": [],
   "source": [
    "page_source = driver.page_source\n",
    "soup = BeautifulSoup(page_source, 'lxml')\n",
    "name = soup.find('h1',  {'class': 'jJxMUbWmmPNtWNnOIzbDKsZYpsWnMWaVc inline t-24 v-align-middle break-words'})\n",
    "name =  name.get_text().strip()\n",
    "profile_data['name'] = name\n",
    "profile_data['url'] = url\n",
    "\n"
   ]
  },
  {
   "cell_type": "code",
   "execution_count": 17,
   "metadata": {},
   "outputs": [],
   "source": [
    "headline = soup.find('div', {'class': 'text-body-medium break-words'})\n",
    "headline = headline.get_text().strip()\n",
    "\n",
    "profile_data['headline'] = headline"
   ]
  },
  {
   "cell_type": "markdown",
   "metadata": {},
   "source": [
    "### Show More"
   ]
  },
  {
   "cell_type": "code",
   "execution_count": 19,
   "metadata": {},
   "outputs": [],
   "source": [
    "driver.find_element(By.CLASS_NAME, \"inline-show-more-text__button\").click()"
   ]
  },
  {
   "cell_type": "code",
   "execution_count": 20,
   "metadata": {},
   "outputs": [],
   "source": [
    "page_source = driver.page_source\n",
    "soup = BeautifulSoup(page_source, 'lxml')\n",
    "\n",
    "about = soup.find('div', {'class': 'display-flex ph5 pv3'})\n",
    "\n",
    "about = about.get_text().strip()\n",
    "\n",
    "profile_data['about'] = about"
   ]
  },
  {
   "cell_type": "code",
   "execution_count": 21,
   "metadata": {},
   "outputs": [
    {
     "data": {
      "text/plain": [
       "{'name': 'Om Thanage',\n",
       " 'url': 'https://www.linkedin.com/in/omthanage',\n",
       " 'headline': \"BitNBuild '24 Finalist | 2 ⭐ Codechef | Web developer | Google Developer Groups KJSCE | Tech Team Member @KJSCE ACM Student Chapter | Pursuing B.Tech Computer Engineering at KJSCE\",\n",
       " 'about': \"🌟 As a student at KJSCE and a passionate Full Stack Developer specializing in Web development (with App development on the horizon), I thrive on challenges and problem-solving. 💻💡Engaging in CP contests for fun, I am constantly honing my skills and embracing innovation. 🔥If you are a fellow problem solver or innovator looking to connect and collaborate, let's join forces to create something extraordinary. 🚀Let's connect and inspire each other to push the boundaries of what's possible in the tech world. Together, we can make a difference! 🌐🌟 As a student at KJSCE and a passionate Full Stack Developer specializing in Web development (with App development on the horizon), I thrive on challenges and problem-solving. 💻💡\\n\\nEngaging in CP contests for fun, I am constantly honing my skills and embracing innovation. 🔥\\n\\nIf you are a fellow problem solver or innovator looking to connect and collaborate, let's join forces to create something extraordinary. 🚀\\n\\nLet's connect and inspire each other to push the boundaries of what's possible in the tech world. Together, we can make a difference! 🌐\"}"
      ]
     },
     "execution_count": 21,
     "metadata": {},
     "output_type": "execute_result"
    }
   ],
   "source": [
    "profile_data"
   ]
  },
  {
   "cell_type": "markdown",
   "metadata": {},
   "source": [
    "### Read Experience"
   ]
  },
  {
   "cell_type": "code",
   "execution_count": 22,
   "metadata": {},
   "outputs": [],
   "source": [
    "page_source = driver.page_source\n",
    "soup = BeautifulSoup(page_source, 'lxml')\n",
    "\n",
    "sections = soup.find_all('section', {'class': 'artdeco-card pv-profile-card break-words mt2'})"
   ]
  },
  {
   "cell_type": "code",
   "execution_count": 36,
   "metadata": {},
   "outputs": [],
   "source": [
    "for sec in sections:\n",
    "    if sec.find('div', {'id': 'experience'}):\n",
    "        experience = sec"
   ]
  },
  {
   "cell_type": "code",
   "execution_count": null,
   "metadata": {},
   "outputs": [
    {
     "name": "stdout",
     "output_type": "stream",
     "text": [
      "\n",
      "\n",
      "\n",
      "\n",
      "\n",
      "\n",
      " \n",
      "\n",
      "\n",
      "\n",
      "\n",
      "\n",
      "\n",
      "\n",
      "\n",
      "\n",
      "\n",
      "\n",
      "Tech Team MemberTech Team Member\n",
      "\n",
      "\n",
      "\n",
      "\n",
      " \n",
      "\n",
      "Google Developer Groups on Campus KJSSE · Part-timeGoogle Developer Groups on Campus KJSSE · Part-time\n",
      "\n",
      "\n",
      "Nov 2024 - Present · 6 mosNov 2024 to Present · 6 mos\n",
      "\n",
      "\n",
      "Maharashtra, India · On-siteMaharashtra, India · On-site\n",
      "\n",
      "\n",
      "\n",
      "\n",
      " \n",
      "\n",
      "\n",
      " \n",
      "\n",
      "\n",
      "\n",
      "\n",
      "\n",
      "\n",
      "\n",
      "\n",
      "\n",
      "\n",
      "\n",
      "\n",
      "\n",
      "\n",
      "\n",
      "\n",
      "\n",
      "\n",
      "\n",
      "Flutter and Dart\n",
      "\n",
      "\n",
      "\n",
      "\n",
      "\n",
      " \n",
      "\n",
      "\n",
      " \n",
      "\n",
      "\n",
      " \n",
      "\n",
      "\n",
      " \n",
      "\n",
      "\n",
      "\n",
      "\n",
      "\n",
      "\n",
      " \n",
      "\n",
      "\n",
      "\n",
      "\n",
      "\n",
      "\n",
      "\n",
      "\n",
      "\n",
      "\n",
      "\n",
      "Tech Team MemberTech Team Member\n",
      "\n",
      "\n",
      "\n",
      "\n",
      " \n",
      "\n",
      "KJSCE ACM Student Chapter · InternshipKJSCE ACM Student Chapter · Internship\n",
      "\n",
      "\n",
      "Aug 2024 - Present · 9 mosAug 2024 to Present · 9 mos\n",
      "\n",
      "\n",
      "Maharashtra, India · On-siteMaharashtra, India · On-site\n",
      "\n",
      "\n",
      "\n",
      "\n",
      " \n",
      "\n",
      "\n",
      " \n",
      "\n",
      "\n",
      "\n",
      "\n",
      "\n",
      "\n",
      "\n",
      "\n",
      "\n",
      "\n",
      "\n",
      "\n",
      "\n",
      "\n",
      "\n",
      "\n",
      "\n",
      "\n",
      "\n",
      "Responsive Web Design, Next.js and +1 skill\n",
      "\n",
      "\n",
      "\n",
      "\n",
      "\n",
      " \n",
      "\n",
      "\n",
      " \n",
      "\n",
      "\n",
      " \n",
      "\n",
      "\n",
      " \n",
      "\n",
      "\n",
      "\n",
      "\n",
      "\n",
      "\n",
      " \n",
      "\n",
      "\n",
      "\n",
      "\n",
      "\n",
      "\n",
      "\n",
      "\n",
      "\n",
      "\n",
      "\n",
      "Web development Team HeadWeb development Team Head\n",
      "\n",
      "\n",
      "\n",
      "\n",
      " \n",
      "\n",
      "Somaiya Space Research Project (SSRP) · InternshipSomaiya Space Research Project (SSRP) · Internship\n",
      "\n",
      "\n",
      "Mar 2024 - Jan 2025 · 11 mosMar 2024 to Jan 2025 · 11 mos\n",
      "\n",
      "\n",
      "Maharashtra, India · On-siteMaharashtra, India · On-site\n",
      "\n",
      "\n",
      "\n",
      "\n",
      " \n",
      "\n",
      "\n",
      " \n",
      "\n",
      "\n",
      "\n",
      "\n",
      "\n",
      "\n",
      "\n",
      "\n",
      "\n",
      "\n",
      "\n",
      "\n",
      "\n",
      "\n",
      "\n",
      "\n",
      "\n",
      "\n",
      "\n",
      "Responsive Web Design, React.js and +1 skill\n",
      "\n",
      "\n",
      "\n",
      "\n",
      "\n",
      " \n",
      "\n",
      "\n",
      " \n",
      "\n",
      "\n",
      " \n",
      "\n",
      "\n",
      " \n"
     ]
    }
   ],
   "source": [
    "# First, find the section containing experience\n",
    "for sec in sections:\n",
    "    if sec.find('div', {'id': 'experience'}):\n",
    "        experience = sec\n",
    "        break  # Exit the loop once found\n",
    "\n",
    "# Now that you have the correct section in 'experience', you can search within it\n",
    "if experience:  # Check if it was found\n",
    "    experience_items = experience.find_all('div', {'class': 'SAkrVBDOIoCCpFSAphUCaGSghqKHILGbog EGpbfwOeMHDFbYayVbnwKsTymikUDs xqdSBdUtBiEYznzTgSfUuCzMYgMdRJzBnbjfjgM'})"
   ]
  },
  {
   "cell_type": "code",
   "execution_count": 42,
   "metadata": {},
   "outputs": [
    {
     "data": {
      "text/plain": [
       "3"
      ]
     },
     "execution_count": 42,
     "metadata": {},
     "output_type": "execute_result"
    }
   ],
   "source": [
    "len(experience_items)"
   ]
  },
  {
   "cell_type": "code",
   "execution_count": 50,
   "metadata": {},
   "outputs": [
    {
     "data": {
      "text/plain": [
       "[<div class=\"SAkrVBDOIoCCpFSAphUCaGSghqKHILGbog EGpbfwOeMHDFbYayVbnwKsTymikUDs xqdSBdUtBiEYznzTgSfUuCzMYgMdRJzBnbjfjgM\" data-view-name=\"profile-component-entity\">\n",
       " <div>\n",
       " <a class=\"optional-action-target-wrapper pvs-entity__image-container--outline-offset display-flex\" data-field=\"experience_company_logo\" href=\"https://www.linkedin.com/company/106370396/\" target=\"_self\">\n",
       " <div class=\"ivm-image-view-model pvs-entity__image\">\n",
       " <div class=\"ivm-view-attr__img-wrapper\">\n",
       " <!-- -->\n",
       " <!-- --> <img alt=\"Google Developer Groups on Campus KJSSE logo\" class=\"ivm-view-attr__img--centered EntityPhoto-square-3 evi-image lazy-image ember-view\" height=\"48\" id=\"ember86\" loading=\"lazy\" src=\"https://media.licdn.com/dms/image/v2/D4D0BAQFXsHEhO9yFEw/company-logo_100_100/B4DZT2nP3mHkAQ-/0/1739304271779?e=1749686400&amp;v=beta&amp;t=FIse2E9MII6xuLCSKdAObm-xgAmWRvS3G_CZnYcRPXE\" width=\"48\"/>\n",
       " </div>\n",
       " </div>\n",
       " </a>\n",
       " </div>\n",
       " <div class=\"display-flex flex-column align-self-center flex-grow-1\">\n",
       " <div class=\"display-flex flex-row justify-space-between\">\n",
       " <a class=\"optional-action-target-wrapper display-flex flex-column full-width\" data-field=\"experience_company_logo\" href=\"https://www.linkedin.com/company/106370396/\" target=\"_self\">\n",
       " <div class=\"display-flex flex-wrap align-items-center full-height\">\n",
       " <div class=\"display-flex\">\n",
       " <div class=\"display-flex full-width\">\n",
       " <div class=\"display-flex align-items-center mr1 hoverable-link-text t-bold\">\n",
       " <span aria-hidden=\"true\"><!-- -->Tech Team Member<!-- --></span><span class=\"visually-hidden\"><!-- -->Tech Team Member<!-- --></span>\n",
       " </div>\n",
       " <!-- -->\n",
       " </div>\n",
       " </div>\n",
       " <!-- --><!-- --><!-- --> </div>\n",
       " <span class=\"t-14 t-normal\">\n",
       " <span aria-hidden=\"true\"><!-- -->Google Developer Groups on Campus KJSSE · Part-time<!-- --></span><span class=\"visually-hidden\"><!-- -->Google Developer Groups on Campus KJSSE · Part-time<!-- --></span>\n",
       " </span>\n",
       " <span class=\"t-14 t-normal t-black--light\">\n",
       " <span aria-hidden=\"true\" class=\"pvs-entity__caption-wrapper\"><!-- -->Nov 2024 - Present · 6 mos<!-- --></span><span class=\"visually-hidden\"><!-- -->Nov 2024 to Present · 6 mos<!-- --></span>\n",
       " </span>\n",
       " <span class=\"t-14 t-normal t-black--light\">\n",
       " <span aria-hidden=\"true\"><!-- -->Maharashtra, India · On-site<!-- --></span><span class=\"visually-hidden\"><!-- -->Maharashtra, India · On-site<!-- --></span>\n",
       " </span>\n",
       " </a>\n",
       " </div>\n",
       " <div class=\"kjYBuhyvQVEOipremtZqcJpajRWQIuQitlhU pvs-entity__sub-components\">\n",
       " <!-- --> <ul class=\"PsYXMgqQJBZGUDnQkZylisKGOfAHyGEBkeYnUyqc\">\n",
       " <li class=\"YVinvvRedwojedoFBUlBieduglFEJATCU\">\n",
       " <div class=\"kjYBuhyvQVEOipremtZqcJpajRWQIuQitlhU\">\n",
       " <!-- --> <ul class=\"PsYXMgqQJBZGUDnQkZylisKGOfAHyGEBkeYnUyqc\">\n",
       " <li class=\"pvs-list__item--with-top-padding YVinvvRedwojedoFBUlBieduglFEJATCU\">\n",
       " <div class=\"mv1 display-flex align-items-center\">\n",
       " <a class=\"optional-action-target-wrapper display-flex link-without-hover-visited\" data-field=\"position_contextual_skills_see_details\" href=\"https://www.linkedin.com/in/omthanage/overlay/urn:li:fsd_profilePosition:(ACoAAEIjmE4BfXklM5qi7J7JJiN5AL3_UA9RM7Q,2575246616)/skill-associations-details?profileUrn=urn%3Ali%3Afsd_profile%3AACoAAEIjmE4BfXklM5qi7J7JJiN5AL3_UA9RM7Q\" target=\"_self\">\n",
       " <div class=\"mr1 mv1\">\n",
       " <ul class=\"ivm-entity-pile display-flex align-items-center t-black\">\n",
       " <li class=\"ivm-entity-pile__img-item--stacked\">\n",
       " <div class=\"ivm-view-attr__img-wrapper\">\n",
       " <!-- -->\n",
       " <svg aria-hidden=\"true\" class=\"ivm-view-attr__icon ivm-view-attr__icon--icon\" data-supported-dps=\"16x16\" data-test-icon=\"skills-small\" height=\"16\" role=\"none\" viewbox=\"0 0 16 16\" width=\"16\" xmlns=\"http://www.w3.org/2000/svg\">\n",
       " <!-- -->\n",
       " <use height=\"16\" href=\"#skills-small\" width=\"16\"></use>\n",
       " </svg>\n",
       " </div>\n",
       " </li>\n",
       " </ul>\n",
       " </div>\n",
       " <div class=\"display-flex\">\n",
       " <div class=\"display-flex full-width\">\n",
       " <div class=\"hoverable-link-text display-flex align-items-center t-14 t-normal t-black\">\n",
       " <strong><!-- -->Flutter and Dart<!-- --></strong>\n",
       " </div>\n",
       " <!-- -->\n",
       " </div>\n",
       " </div>\n",
       " </a>\n",
       " <!-- --> </div>\n",
       " </li>\n",
       " </ul>\n",
       " <!-- --> </div>\n",
       " </li>\n",
       " </ul>\n",
       " <!-- --> </div>\n",
       " </div>\n",
       " <!-- -->\n",
       " <!-- --> </div>,\n",
       " <div class=\"SAkrVBDOIoCCpFSAphUCaGSghqKHILGbog EGpbfwOeMHDFbYayVbnwKsTymikUDs xqdSBdUtBiEYznzTgSfUuCzMYgMdRJzBnbjfjgM\" data-view-name=\"profile-component-entity\">\n",
       " <div>\n",
       " <a class=\"optional-action-target-wrapper pvs-entity__image-container--outline-offset display-flex\" data-field=\"experience_company_logo\" href=\"https://www.linkedin.com/company/102289756/\" target=\"_self\">\n",
       " <div class=\"ivm-image-view-model pvs-entity__image\">\n",
       " <div class=\"ivm-view-attr__img-wrapper\">\n",
       " <!-- -->\n",
       " <!-- --> <img alt=\"KJSCE ACM Student Chapter logo\" class=\"ivm-view-attr__img--centered EntityPhoto-square-3 evi-image lazy-image ember-view\" height=\"48\" id=\"ember92\" loading=\"lazy\" src=\"https://media.licdn.com/dms/image/v2/D4D0BAQEcwCIwrOEmlw/company-logo_100_100/company-logo_100_100/0/1723900142182?e=1749686400&amp;v=beta&amp;t=dTbj0zl0pkQ3ojMVzP_4ITrOPAN7KwMVEhCv1pfRRSw\" width=\"48\"/>\n",
       " </div>\n",
       " </div>\n",
       " </a>\n",
       " </div>\n",
       " <div class=\"display-flex flex-column align-self-center flex-grow-1\">\n",
       " <div class=\"display-flex flex-row justify-space-between\">\n",
       " <a class=\"optional-action-target-wrapper display-flex flex-column full-width\" data-field=\"experience_company_logo\" href=\"https://www.linkedin.com/company/102289756/\" target=\"_self\">\n",
       " <div class=\"display-flex flex-wrap align-items-center full-height\">\n",
       " <div class=\"display-flex\">\n",
       " <div class=\"display-flex full-width\">\n",
       " <div class=\"display-flex align-items-center mr1 hoverable-link-text t-bold\">\n",
       " <span aria-hidden=\"true\"><!-- -->Tech Team Member<!-- --></span><span class=\"visually-hidden\"><!-- -->Tech Team Member<!-- --></span>\n",
       " </div>\n",
       " <!-- -->\n",
       " </div>\n",
       " </div>\n",
       " <!-- --><!-- --><!-- --> </div>\n",
       " <span class=\"t-14 t-normal\">\n",
       " <span aria-hidden=\"true\"><!-- -->KJSCE ACM Student Chapter · Internship<!-- --></span><span class=\"visually-hidden\"><!-- -->KJSCE ACM Student Chapter · Internship<!-- --></span>\n",
       " </span>\n",
       " <span class=\"t-14 t-normal t-black--light\">\n",
       " <span aria-hidden=\"true\" class=\"pvs-entity__caption-wrapper\"><!-- -->Aug 2024 - Present · 9 mos<!-- --></span><span class=\"visually-hidden\"><!-- -->Aug 2024 to Present · 9 mos<!-- --></span>\n",
       " </span>\n",
       " <span class=\"t-14 t-normal t-black--light\">\n",
       " <span aria-hidden=\"true\"><!-- -->Maharashtra, India · On-site<!-- --></span><span class=\"visually-hidden\"><!-- -->Maharashtra, India · On-site<!-- --></span>\n",
       " </span>\n",
       " </a>\n",
       " </div>\n",
       " <div class=\"kjYBuhyvQVEOipremtZqcJpajRWQIuQitlhU pvs-entity__sub-components\">\n",
       " <!-- --> <ul class=\"PsYXMgqQJBZGUDnQkZylisKGOfAHyGEBkeYnUyqc\">\n",
       " <li class=\"YVinvvRedwojedoFBUlBieduglFEJATCU\">\n",
       " <div class=\"kjYBuhyvQVEOipremtZqcJpajRWQIuQitlhU\">\n",
       " <!-- --> <ul class=\"PsYXMgqQJBZGUDnQkZylisKGOfAHyGEBkeYnUyqc\">\n",
       " <li class=\"pvs-list__item--with-top-padding YVinvvRedwojedoFBUlBieduglFEJATCU\">\n",
       " <div class=\"mv1 display-flex align-items-center\">\n",
       " <a class=\"optional-action-target-wrapper display-flex link-without-hover-visited\" data-field=\"position_contextual_skills_see_details\" href=\"https://www.linkedin.com/in/omthanage/overlay/urn:li:fsd_profilePosition:(ACoAAEIjmE4BfXklM5qi7J7JJiN5AL3_UA9RM7Q,2476890435)/skill-associations-details?profileUrn=urn%3Ali%3Afsd_profile%3AACoAAEIjmE4BfXklM5qi7J7JJiN5AL3_UA9RM7Q\" target=\"_self\">\n",
       " <div class=\"mr1 mv1\">\n",
       " <ul class=\"ivm-entity-pile display-flex align-items-center t-black\">\n",
       " <li class=\"ivm-entity-pile__img-item--stacked\">\n",
       " <div class=\"ivm-view-attr__img-wrapper\">\n",
       " <!-- -->\n",
       " <svg aria-hidden=\"true\" class=\"ivm-view-attr__icon ivm-view-attr__icon--icon\" data-supported-dps=\"16x16\" data-test-icon=\"skills-small\" height=\"16\" role=\"none\" viewbox=\"0 0 16 16\" width=\"16\" xmlns=\"http://www.w3.org/2000/svg\">\n",
       " <!-- -->\n",
       " <use height=\"16\" href=\"#skills-small\" width=\"16\"></use>\n",
       " </svg>\n",
       " </div>\n",
       " </li>\n",
       " </ul>\n",
       " </div>\n",
       " <div class=\"display-flex\">\n",
       " <div class=\"display-flex full-width\">\n",
       " <div class=\"hoverable-link-text display-flex align-items-center t-14 t-normal t-black\">\n",
       " <strong><!-- -->Responsive Web Design, Next.js and +1 skill<!-- --></strong>\n",
       " </div>\n",
       " <!-- -->\n",
       " </div>\n",
       " </div>\n",
       " </a>\n",
       " <!-- --> </div>\n",
       " </li>\n",
       " </ul>\n",
       " <!-- --> </div>\n",
       " </li>\n",
       " </ul>\n",
       " <!-- --> </div>\n",
       " </div>\n",
       " <!-- -->\n",
       " <!-- --> </div>,\n",
       " <div class=\"SAkrVBDOIoCCpFSAphUCaGSghqKHILGbog EGpbfwOeMHDFbYayVbnwKsTymikUDs xqdSBdUtBiEYznzTgSfUuCzMYgMdRJzBnbjfjgM\" data-view-name=\"profile-component-entity\">\n",
       " <div>\n",
       " <a class=\"optional-action-target-wrapper pvs-entity__image-container--outline-offset display-flex\" data-field=\"experience_company_logo\" href=\"https://www.linkedin.com/company/101668225/\" target=\"_self\">\n",
       " <div class=\"ivm-image-view-model pvs-entity__image\">\n",
       " <div class=\"ivm-view-attr__img-wrapper\">\n",
       " <!-- -->\n",
       " <!-- --> <img alt=\"Somaiya Space Research Project (SSRP) logo\" class=\"ivm-view-attr__img--centered EntityPhoto-square-3 evi-image lazy-image ember-view\" height=\"48\" id=\"ember98\" loading=\"lazy\" src=\"https://media.licdn.com/dms/image/v2/D4D0BAQHRGoovODDELQ/company-logo_100_100/B4DZUdzGC_HAAQ-/0/1739961688968/somaiya_space_research_project_ssrp_logo?e=1749686400&amp;v=beta&amp;t=FauEB4LndnkzLGL4e085Dl-G5817eJFYycUy4A_1WB4\" width=\"48\"/>\n",
       " </div>\n",
       " </div>\n",
       " </a>\n",
       " </div>\n",
       " <div class=\"display-flex flex-column align-self-center flex-grow-1\">\n",
       " <div class=\"display-flex flex-row justify-space-between\">\n",
       " <a class=\"optional-action-target-wrapper display-flex flex-column full-width\" data-field=\"experience_company_logo\" href=\"https://www.linkedin.com/company/101668225/\" target=\"_self\">\n",
       " <div class=\"display-flex flex-wrap align-items-center full-height\">\n",
       " <div class=\"display-flex\">\n",
       " <div class=\"display-flex full-width\">\n",
       " <div class=\"display-flex align-items-center mr1 hoverable-link-text t-bold\">\n",
       " <span aria-hidden=\"true\"><!-- -->Web development Team Head<!-- --></span><span class=\"visually-hidden\"><!-- -->Web development Team Head<!-- --></span>\n",
       " </div>\n",
       " <!-- -->\n",
       " </div>\n",
       " </div>\n",
       " <!-- --><!-- --><!-- --> </div>\n",
       " <span class=\"t-14 t-normal\">\n",
       " <span aria-hidden=\"true\"><!-- -->Somaiya Space Research Project (SSRP) · Internship<!-- --></span><span class=\"visually-hidden\"><!-- -->Somaiya Space Research Project (SSRP) · Internship<!-- --></span>\n",
       " </span>\n",
       " <span class=\"t-14 t-normal t-black--light\">\n",
       " <span aria-hidden=\"true\" class=\"pvs-entity__caption-wrapper\"><!-- -->Mar 2024 - Jan 2025 · 11 mos<!-- --></span><span class=\"visually-hidden\"><!-- -->Mar 2024 to Jan 2025 · 11 mos<!-- --></span>\n",
       " </span>\n",
       " <span class=\"t-14 t-normal t-black--light\">\n",
       " <span aria-hidden=\"true\"><!-- -->Maharashtra, India · On-site<!-- --></span><span class=\"visually-hidden\"><!-- -->Maharashtra, India · On-site<!-- --></span>\n",
       " </span>\n",
       " </a>\n",
       " </div>\n",
       " <div class=\"kjYBuhyvQVEOipremtZqcJpajRWQIuQitlhU pvs-entity__sub-components\">\n",
       " <!-- --> <ul class=\"PsYXMgqQJBZGUDnQkZylisKGOfAHyGEBkeYnUyqc\">\n",
       " <li class=\"YVinvvRedwojedoFBUlBieduglFEJATCU\">\n",
       " <div class=\"kjYBuhyvQVEOipremtZqcJpajRWQIuQitlhU\">\n",
       " <!-- --> <ul class=\"PsYXMgqQJBZGUDnQkZylisKGOfAHyGEBkeYnUyqc\">\n",
       " <li class=\"pvs-list__item--with-top-padding YVinvvRedwojedoFBUlBieduglFEJATCU\">\n",
       " <div class=\"mv1 display-flex align-items-center\">\n",
       " <a class=\"optional-action-target-wrapper display-flex link-without-hover-visited\" data-field=\"position_contextual_skills_see_details\" href=\"https://www.linkedin.com/in/omthanage/overlay/urn:li:fsd_profilePosition:(ACoAAEIjmE4BfXklM5qi7J7JJiN5AL3_UA9RM7Q,2368822788)/skill-associations-details?profileUrn=urn%3Ali%3Afsd_profile%3AACoAAEIjmE4BfXklM5qi7J7JJiN5AL3_UA9RM7Q\" target=\"_self\">\n",
       " <div class=\"mr1 mv1\">\n",
       " <ul class=\"ivm-entity-pile display-flex align-items-center t-black\">\n",
       " <li class=\"ivm-entity-pile__img-item--stacked\">\n",
       " <div class=\"ivm-view-attr__img-wrapper\">\n",
       " <!-- -->\n",
       " <svg aria-hidden=\"true\" class=\"ivm-view-attr__icon ivm-view-attr__icon--icon\" data-supported-dps=\"16x16\" data-test-icon=\"skills-small\" height=\"16\" role=\"none\" viewbox=\"0 0 16 16\" width=\"16\" xmlns=\"http://www.w3.org/2000/svg\">\n",
       " <!-- -->\n",
       " <use height=\"16\" href=\"#skills-small\" width=\"16\"></use>\n",
       " </svg>\n",
       " </div>\n",
       " </li>\n",
       " </ul>\n",
       " </div>\n",
       " <div class=\"display-flex\">\n",
       " <div class=\"display-flex full-width\">\n",
       " <div class=\"hoverable-link-text display-flex align-items-center t-14 t-normal t-black\">\n",
       " <strong><!-- -->Responsive Web Design, React.js and +1 skill<!-- --></strong>\n",
       " </div>\n",
       " <!-- -->\n",
       " </div>\n",
       " </div>\n",
       " </a>\n",
       " <!-- --> </div>\n",
       " </li>\n",
       " </ul>\n",
       " <!-- --> </div>\n",
       " </li>\n",
       " </ul>\n",
       " <!-- --> </div>\n",
       " </div>\n",
       " <!-- -->\n",
       " <!-- --> </div>]"
      ]
     },
     "execution_count": 50,
     "metadata": {},
     "output_type": "execute_result"
    }
   ],
   "source": [
    "experience_items"
   ]
  },
  {
   "cell_type": "code",
   "execution_count": 43,
   "metadata": {},
   "outputs": [],
   "source": [
    "exp = experience_items[0]"
   ]
  },
  {
   "cell_type": "code",
   "execution_count": 49,
   "metadata": {},
   "outputs": [
    {
     "data": {
      "text/plain": [
       "'\\n'"
      ]
     },
     "execution_count": 49,
     "metadata": {},
     "output_type": "execute_result"
    }
   ],
   "source": [
    "exp"
   ]
  },
  {
   "cell_type": "code",
   "execution_count": 51,
   "metadata": {},
   "outputs": [],
   "source": [
    "def get_exp(exp):\n",
    "\n",
    "    exp_dict = {}\n",
    "\n",
    "    name = exp.find('div', {'class': 'display-flex flex-wrap align-items-center full-height'})\n",
    "    name = name.find('span', {'class': 'visually-hidden'})\n",
    "    name = name.get_text().strip()\n",
    "\n",
    "    duration = exp.find('span', {'class': 't-14 t-normal'})\n",
    "    duration = duration.find('span', {'class': 'visually-hidden'})\n",
    "    duration = duration.get_text().strip()\n",
    "    duration\n",
    "\n",
    "    exp_dict['company_name'] = name\n",
    "    exp_dict['duration'] = duration\n",
    "\n",
    "    designations = exp.find_all('div', {'class': 'gFJNglFOnyZmIAbxVkrWpQCmMhGSasZRfRtGlFg'})\n",
    "\n",
    "    item_list = []\n",
    "    for position in designations:\n",
    "        spans = position.find_all('span', {'class': 'visually-hidden'})\n",
    "\n",
    "        item_dict = {}\n",
    "        item_dict['designation'] = spans[0].get_text().strip()\n",
    "        item_dict['duration'] = spans[1].get_text().strip()\n",
    "        item_dict['location'] = spans[2].get_text().strip()\n",
    "\n",
    "        try:\n",
    "            item_dict['projects'] = spans[3].get_text().strip()\n",
    "        except:\n",
    "            item_dict['projects'] = \"\"\n",
    "\n",
    "        item_list.append(item_dict)\n",
    "\n",
    "\n",
    "    exp_dict['designations'] = item_list\n",
    "\n",
    "    return exp_dict\n",
    "\n",
    "item_list = []\n",
    "for exp in experience_items:\n",
    "    item_list.append(get_exp(exp))"
   ]
  },
  {
   "cell_type": "code",
   "execution_count": 52,
   "metadata": {},
   "outputs": [],
   "source": [
    "profile_data['experience'] = item_list\n"
   ]
  },
  {
   "cell_type": "code",
   "execution_count": 53,
   "metadata": {},
   "outputs": [
    {
     "data": {
      "text/plain": [
       "{'name': 'Om Thanage',\n",
       " 'url': 'https://www.linkedin.com/in/omthanage',\n",
       " 'headline': \"BitNBuild '24 Finalist | 2 ⭐ Codechef | Web developer | Google Developer Groups KJSCE | Tech Team Member @KJSCE ACM Student Chapter | Pursuing B.Tech Computer Engineering at KJSCE\",\n",
       " 'about': \"🌟 As a student at KJSCE and a passionate Full Stack Developer specializing in Web development (with App development on the horizon), I thrive on challenges and problem-solving. 💻💡Engaging in CP contests for fun, I am constantly honing my skills and embracing innovation. 🔥If you are a fellow problem solver or innovator looking to connect and collaborate, let's join forces to create something extraordinary. 🚀Let's connect and inspire each other to push the boundaries of what's possible in the tech world. Together, we can make a difference! 🌐🌟 As a student at KJSCE and a passionate Full Stack Developer specializing in Web development (with App development on the horizon), I thrive on challenges and problem-solving. 💻💡\\n\\nEngaging in CP contests for fun, I am constantly honing my skills and embracing innovation. 🔥\\n\\nIf you are a fellow problem solver or innovator looking to connect and collaborate, let's join forces to create something extraordinary. 🚀\\n\\nLet's connect and inspire each other to push the boundaries of what's possible in the tech world. Together, we can make a difference! 🌐\",\n",
       " 'education': [],\n",
       " 'experience': [{'company_name': 'Tech Team Member',\n",
       "   'duration': 'Google Developer Groups on Campus KJSSE · Part-time',\n",
       "   'designations': []},\n",
       "  {'company_name': 'Tech Team Member',\n",
       "   'duration': 'KJSCE ACM Student Chapter · Internship',\n",
       "   'designations': []},\n",
       "  {'company_name': 'Web development Team Head',\n",
       "   'duration': 'Somaiya Space Research Project (SSRP) · Internship',\n",
       "   'designations': []}]}"
      ]
     },
     "execution_count": 53,
     "metadata": {},
     "output_type": "execute_result"
    }
   ],
   "source": [
    "profile_data"
   ]
  },
  {
   "cell_type": "markdown",
   "metadata": {},
   "source": [
    "### Education"
   ]
  },
  {
   "cell_type": "code",
   "execution_count": 54,
   "metadata": {},
   "outputs": [],
   "source": [
    "for sec in sections:\n",
    "    if sec.find('div', {'id': 'education'}):\n",
    "        educations = sec"
   ]
  },
  {
   "cell_type": "code",
   "execution_count": 55,
   "metadata": {},
   "outputs": [
    {
     "data": {
      "text/plain": [
       "'EducationEducation\\n\\n \\n \\n \\n\\n\\n \\n\\n \\n\\n\\n\\n\\n\\n \\n\\n\\n\\n\\n\\n\\n\\n\\n\\n\\n\\nKJ Somaiya College of Engineering, VidyaviharKJ Somaiya College of Engineering, Vidyavihar\\n\\n\\n\\n\\n \\n\\nBachelor of Technology - BTech, Computer EngineeringBachelor of Technology - BTech, Computer Engineering\\n\\n\\nJul 2023 - Jul 2027Jul 2023 - Jul 2027\\n\\n \\n\\n\\n \\n\\n\\n\\n\\n\\n\\n\\n\\nGrade: 9.71Grade: 9.71\\n \\n\\n\\n\\n\\n\\n \\n\\n\\n\\n \\n\\n\\n\\n\\n\\n\\n\\n\\n\\n\\n\\n\\n\\n\\n\\n\\n\\n\\n\\nPython (Programming Language), C++ and +7 skills\\n\\n\\n\\n\\n\\n \\n\\n\\n \\n\\n\\n \\n\\n\\n \\n\\n\\n \\n\\n\\n\\n\\n\\n\\nArya Gurukul International Jr College of Science and Commerece\\n\\n\\n\\n\\n\\n\\n\\n\\n\\n\\n\\n\\nArya Gurukul International Jr College of Science and CommereceArya Gurukul International Jr College of Science and Commerece\\n\\n\\n\\n\\n \\n\\n11-12th, Science11-12th, Science\\n\\n\\nAug 2021 - Mar 2023Aug 2021 - Mar 2023\\n\\n \\n\\n\\n \\n\\n\\n \\n\\n\\n\\n\\n\\nMht-cet :- 96.4 percentileMht-cet :- 96.4 percentile\\n \\n\\n\\n\\n\\n\\n\\n \\n\\n\\n\\n \\n\\n\\n\\n\\n\\n\\n\\n\\n\\n\\n\\n\\n\\n\\n\\n\\n\\n\\n\\nC++, HTML and +1 skill\\n\\n\\n\\n\\n\\n \\n\\n\\n \\n\\n\\n \\n\\n\\n \\n\\n\\n\\n\\n\\n\\n \\n              Show all 3 educations'"
      ]
     },
     "execution_count": 55,
     "metadata": {},
     "output_type": "execute_result"
    }
   ],
   "source": [
    "educations.get_text().strip()"
   ]
  },
  {
   "cell_type": "code",
   "execution_count": 58,
   "metadata": {},
   "outputs": [],
   "source": [
    "items = educations.find_all('div', {'class': 'SAkrVBDOIoCCpFSAphUCaGSghqKHILGbog EGpbfwOeMHDFbYayVbnwKsTymikUDs xqdSBdUtBiEYznzTgSfUuCzMYgMdRJzBnbjfjgM'})"
   ]
  },
  {
   "cell_type": "code",
   "execution_count": 63,
   "metadata": {},
   "outputs": [
    {
     "data": {
      "text/plain": [
       "2"
      ]
     },
     "execution_count": 63,
     "metadata": {},
     "output_type": "execute_result"
    }
   ],
   "source": [
    "len(items)"
   ]
  },
  {
   "cell_type": "code",
   "execution_count": 77,
   "metadata": {},
   "outputs": [],
   "source": [
    "def get_edu(item):\n",
    "    item_dict = {}\n",
    "    spans = item.find_all('span', {'class': 'visually-hidden'})\n",
    "\n",
    "\n",
    "    item_dict['college'] = spans[0].get_text().strip()\n",
    "    item_dict['degree'] = spans[1].get_text().strip()\n",
    "    item_dict['duration'] = spans[2].get_text().strip()\n",
    "    item_dict['grade'] = spans[3].get_text().strip()\n",
    "\n",
    "\n",
    "    return item_dict\n",
    "\n",
    "\n",
    "item_list2 = []\n",
    "for item in items:\n",
    "    item_list2.append(get_edu(item))\n",
    "\n",
    "\n",
    "profile_data['education'] = item_list2\n"
   ]
  },
  {
   "cell_type": "code",
   "execution_count": 78,
   "metadata": {},
   "outputs": [
    {
     "data": {
      "text/plain": [
       "{'name': 'Om Thanage',\n",
       " 'url': 'https://www.linkedin.com/in/omthanage',\n",
       " 'headline': \"BitNBuild '24 Finalist | 2 ⭐ Codechef | Web developer | Google Developer Groups KJSCE | Tech Team Member @KJSCE ACM Student Chapter | Pursuing B.Tech Computer Engineering at KJSCE\",\n",
       " 'about': \"🌟 As a student at KJSCE and a passionate Full Stack Developer specializing in Web development (with App development on the horizon), I thrive on challenges and problem-solving. 💻💡Engaging in CP contests for fun, I am constantly honing my skills and embracing innovation. 🔥If you are a fellow problem solver or innovator looking to connect and collaborate, let's join forces to create something extraordinary. 🚀Let's connect and inspire each other to push the boundaries of what's possible in the tech world. Together, we can make a difference! 🌐🌟 As a student at KJSCE and a passionate Full Stack Developer specializing in Web development (with App development on the horizon), I thrive on challenges and problem-solving. 💻💡\\n\\nEngaging in CP contests for fun, I am constantly honing my skills and embracing innovation. 🔥\\n\\nIf you are a fellow problem solver or innovator looking to connect and collaborate, let's join forces to create something extraordinary. 🚀\\n\\nLet's connect and inspire each other to push the boundaries of what's possible in the tech world. Together, we can make a difference! 🌐\",\n",
       " 'education': [{'college': 'KJ Somaiya College of Engineering, Vidyavihar',\n",
       "   'degree': 'Bachelor of Technology - BTech, Computer Engineering',\n",
       "   'duration': 'Jul 2023 - Jul 2027',\n",
       "   'grade': 'Grade: 9.71'},\n",
       "  {'college': 'Arya Gurukul International Jr College of Science and Commerece',\n",
       "   'degree': '11-12th, Science',\n",
       "   'duration': 'Aug 2021 - Mar 2023',\n",
       "   'grade': 'Mht-cet :- 96.4 percentile'}],\n",
       " 'experience': [{'company_name': 'Tech Team Member',\n",
       "   'duration': 'Google Developer Groups on Campus KJSSE · Part-time',\n",
       "   'designations': []},\n",
       "  {'company_name': 'Tech Team Member',\n",
       "   'duration': 'KJSCE ACM Student Chapter · Internship',\n",
       "   'designations': []},\n",
       "  {'company_name': 'Web development Team Head',\n",
       "   'duration': 'Somaiya Space Research Project (SSRP) · Internship',\n",
       "   'designations': []}]}"
      ]
     },
     "execution_count": 78,
     "metadata": {},
     "output_type": "execute_result"
    }
   ],
   "source": [
    "profile_data"
   ]
  },
  {
   "cell_type": "markdown",
   "metadata": {},
   "source": [
    "### Skills"
   ]
  },
  {
   "cell_type": "code",
   "execution_count": 88,
   "metadata": {},
   "outputs": [],
   "source": [
    "elements = soup.find_all('span', {'class': 'pvs-navigation__text'})\n",
    "\n",
    "skill_count = None\n",
    "for element in elements:\n",
    "    text = element.get_text().strip()\n",
    "    if \"skills\" in text.lower():\n",
    "        import re\n",
    "        match = re.search(r'(\\d+)\\s+skills', text.lower())\n",
    "        if match:\n",
    "            skill_count = match.group(1)\n",
    "            break\n",
    "\n",
    "skill_count\n",
    "driver.find_element(By.ID, f\"navigation-index-Show-all-{skill_count}-skills\").click()"
   ]
  },
  {
   "cell_type": "code",
   "execution_count": 101,
   "metadata": {},
   "outputs": [],
   "source": [
    "page_source = driver.page_source\n",
    "soup = BeautifulSoup(page_source, 'lxml')\n",
    "\n",
    "soup = soup.find('section', {'class': 'artdeco-card pb3'})"
   ]
  },
  {
   "cell_type": "code",
   "execution_count": 103,
   "metadata": {},
   "outputs": [
    {
     "name": "stdout",
     "output_type": "stream",
     "text": [
      "Next.jsNext.js\n",
      "\n",
      "\n",
      "\n",
      "\n",
      " \n",
      " \n",
      "\n",
      "\n",
      " \n",
      "\n",
      "\n",
      "\n",
      "\n",
      "\n",
      "\n",
      "\n",
      "\n",
      " \n",
      "\n",
      "\n",
      "\n",
      "\n",
      "\n",
      "\n",
      "\n",
      "\n",
      "Tech Team Member at KJSCE ACM Student ChapterTech Team Member at KJSCE ACM Student Chapter\n"
     ]
    }
   ],
   "source": [
    "items = soup.find_all('div', {'class': 'SAkrVBDOIoCCpFSAphUCaGSghqKHILGbog EGpbfwOeMHDFbYayVbnwKsTymikUDs xqdSBdUtBiEYznzTgSfUuCzMYgMdRJzBnbjfjgM'})\n",
    "\n",
    "len(items)\n",
    "\n",
    "item = items[0]\n",
    "print(item.get_text().strip())"
   ]
  },
  {
   "cell_type": "code",
   "execution_count": 104,
   "metadata": {},
   "outputs": [],
   "source": [
    "item = items[0]\n",
    "\n",
    "def get_skills(item):\n",
    "    spans = item.find_all('span', {'class': 'visually-hidden'})\n",
    "\n",
    "    item_dict = {}\n",
    "    item_dict['skill_name'] = spans[0].get_text().strip()\n",
    "\n",
    "    return item_dict\n",
    "\n",
    "item_list = []\n",
    "for item in items:\n",
    "    item_list.append(get_skills(item))\n",
    "\n",
    "profile_data['skills'] = item_list\n"
   ]
  },
  {
   "cell_type": "code",
   "execution_count": 105,
   "metadata": {},
   "outputs": [
    {
     "data": {
      "text/plain": [
       "{'name': 'Om Thanage',\n",
       " 'url': 'https://www.linkedin.com/in/omthanage',\n",
       " 'headline': \"BitNBuild '24 Finalist | 2 ⭐ Codechef | Web developer | Google Developer Groups KJSCE | Tech Team Member @KJSCE ACM Student Chapter | Pursuing B.Tech Computer Engineering at KJSCE\",\n",
       " 'about': \"🌟 As a student at KJSCE and a passionate Full Stack Developer specializing in Web development (with App development on the horizon), I thrive on challenges and problem-solving. 💻💡Engaging in CP contests for fun, I am constantly honing my skills and embracing innovation. 🔥If you are a fellow problem solver or innovator looking to connect and collaborate, let's join forces to create something extraordinary. 🚀Let's connect and inspire each other to push the boundaries of what's possible in the tech world. Together, we can make a difference! 🌐🌟 As a student at KJSCE and a passionate Full Stack Developer specializing in Web development (with App development on the horizon), I thrive on challenges and problem-solving. 💻💡\\n\\nEngaging in CP contests for fun, I am constantly honing my skills and embracing innovation. 🔥\\n\\nIf you are a fellow problem solver or innovator looking to connect and collaborate, let's join forces to create something extraordinary. 🚀\\n\\nLet's connect and inspire each other to push the boundaries of what's possible in the tech world. Together, we can make a difference! 🌐\",\n",
       " 'education': [{'college': 'KJ Somaiya College of Engineering, Vidyavihar',\n",
       "   'degree': 'Bachelor of Technology - BTech, Computer Engineering',\n",
       "   'duration': 'Jul 2023 - Jul 2027',\n",
       "   'grade': 'Grade: 9.71'},\n",
       "  {'college': 'Arya Gurukul International Jr College of Science and Commerece',\n",
       "   'degree': '11-12th, Science',\n",
       "   'duration': 'Aug 2021 - Mar 2023',\n",
       "   'grade': 'Mht-cet :- 96.4 percentile'}],\n",
       " 'experience': [{'company_name': 'Tech Team Member',\n",
       "   'duration': 'Google Developer Groups on Campus KJSSE · Part-time',\n",
       "   'designations': []},\n",
       "  {'company_name': 'Tech Team Member',\n",
       "   'duration': 'KJSCE ACM Student Chapter · Internship',\n",
       "   'designations': []},\n",
       "  {'company_name': 'Web development Team Head',\n",
       "   'duration': 'Somaiya Space Research Project (SSRP) · Internship',\n",
       "   'designations': []}],\n",
       " 'skills': [{'skill_name': 'Next.js'},\n",
       "  {'skill_name': 'Flutter'},\n",
       "  {'skill_name': 'Dart'},\n",
       "  {'skill_name': 'Search Engine Optimization (SEO)'},\n",
       "  {'skill_name': 'Three.js'},\n",
       "  {'skill_name': 'HTML5'},\n",
       "  {'skill_name': 'Responsive Web Design'},\n",
       "  {'skill_name': 'React.js'},\n",
       "  {'skill_name': 'Git and GitHub'},\n",
       "  {'skill_name': 'Python (Programming Language)'},\n",
       "  {'skill_name': 'JavaScript'},\n",
       "  {'skill_name': 'HTML'},\n",
       "  {'skill_name': 'Cascading Style Sheets (CSS)'},\n",
       "  {'skill_name': 'C++'},\n",
       "  {'skill_name': 'Presentations'},\n",
       "  {'skill_name': 'English'},\n",
       "  {'skill_name': 'Microsoft Office'},\n",
       "  {'skill_name': 'Microsoft Excel'},\n",
       "  {'skill_name': 'Microsoft Word'},\n",
       "  {'skill_name': 'Microsoft PowerPoint'},\n",
       "  {'skill_name': 'AutoCAD'},\n",
       "  {'skill_name': 'Dart'},\n",
       "  {'skill_name': 'Search Engine Optimization (SEO)'},\n",
       "  {'skill_name': 'Responsive Web Design'},\n",
       "  {'skill_name': 'Presentations'},\n",
       "  {'skill_name': 'Next.js'},\n",
       "  {'skill_name': 'Flutter'},\n",
       "  {'skill_name': 'Three.js'},\n",
       "  {'skill_name': 'HTML5'},\n",
       "  {'skill_name': 'React.js'},\n",
       "  {'skill_name': 'Python (Programming Language)'},\n",
       "  {'skill_name': 'JavaScript'},\n",
       "  {'skill_name': 'HTML'},\n",
       "  {'skill_name': 'Cascading Style Sheets (CSS)'},\n",
       "  {'skill_name': 'C++'},\n",
       "  {'skill_name': 'Microsoft Office'},\n",
       "  {'skill_name': 'Microsoft Excel'},\n",
       "  {'skill_name': 'Microsoft Word'},\n",
       "  {'skill_name': 'Microsoft PowerPoint'},\n",
       "  {'skill_name': 'AutoCAD'},\n",
       "  {'skill_name': 'English'}]}"
      ]
     },
     "execution_count": 105,
     "metadata": {},
     "output_type": "execute_result"
    }
   ],
   "source": [
    "# driver.back()\n",
    "profile_data\n"
   ]
  },
  {
   "cell_type": "code",
   "execution_count": 107,
   "metadata": {},
   "outputs": [],
   "source": [
    "import json\n",
    "\n",
    "with open('data/profile_data_tutorial.json', 'w') as f:\n",
    "    json.dump(profile_data, f, indent=4)"
   ]
  },
  {
   "cell_type": "code",
   "execution_count": 108,
   "metadata": {},
   "outputs": [],
   "source": [
    "driver.quit()"
   ]
  }
 ],
 "metadata": {
  "kernelspec": {
   "display_name": "Python 3",
   "language": "python",
   "name": "python3"
  },
  "language_info": {
   "codemirror_mode": {
    "name": "ipython",
    "version": 3
   },
   "file_extension": ".py",
   "mimetype": "text/x-python",
   "name": "python",
   "nbconvert_exporter": "python",
   "pygments_lexer": "ipython3",
   "version": "3.12.7"
  }
 },
 "nbformat": 4,
 "nbformat_minor": 2
}
